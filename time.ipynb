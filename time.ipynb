{
  "nbformat": 4,
  "nbformat_minor": 0,
  "metadata": {
    "colab": {
      "provenance": []
    },
    "kernelspec": {
      "name": "python3",
      "display_name": "Python 3"
    },
    "language_info": {
      "name": "python"
    }
  },
  "cells": [
    {
      "cell_type": "code",
      "execution_count": null,
      "metadata": {
        "id": "_vc-57ZCVvXW"
      },
      "outputs": [],
      "source": []
    },
    {
      "cell_type": "code",
      "source": [
        "import numpy as np\n",
        "import pandas as pd\n",
        "import seaborn as sns\n",
        "import matplotlib.pyplot as plt\n",
        "\n",
        "# Load the dataset\n",
        "dataset = \"/content/dataset.csv\"\n",
        "df = pd.read_csv(dataset)\n",
        "print(pd.options.display.max_rows)\n",
        "print(df.columns)\n",
        "df.columns.str.match('Unnamed')\n",
        "\n"
      ],
      "metadata": {
        "colab": {
          "base_uri": "https://localhost:8080/"
        },
        "id": "CBEFotKkV7jg",
        "outputId": "0188ab5c-74f9-4b2d-8357-7278f908f256"
      },
      "execution_count": null,
      "outputs": [
        {
          "output_type": "stream",
          "name": "stdout",
          "text": [
            "60\n",
            "Index(['Unnamed: 0', 'Punjab', 'Haryana', 'Rajasthan', 'Delhi', 'UP',\n",
            "       'Uttarakhand', 'HP', 'J&K', 'Chandigarh', 'Chhattisgarh', 'Gujarat',\n",
            "       'MP', 'Maharashtra', 'Goa', 'DNH', 'Andhra Pradesh', 'Telangana',\n",
            "       'Karnataka', 'Kerala', 'Tamil Nadu', 'Pondy', 'Bihar', 'Jharkhand',\n",
            "       'Odisha', 'West Bengal', 'Sikkim', 'Arunachal Pradesh', 'Assam',\n",
            "       'Manipur', 'Meghalaya', 'Mizoram', 'Nagaland', 'Tripura'],\n",
            "      dtype='object')\n"
          ]
        },
        {
          "output_type": "execute_result",
          "data": {
            "text/plain": [
              "array([ True, False, False, False, False, False, False, False, False,\n",
              "       False, False, False, False, False, False, False, False, False,\n",
              "       False, False, False, False, False, False, False, False, False,\n",
              "       False, False, False, False, False, False, False])"
            ]
          },
          "metadata": {},
          "execution_count": 14
        }
      ]
    },
    {
      "cell_type": "code",
      "source": [
        "df['Unnamed: 0'] = pd.to_datetime(df['Unnamed: 0'])\n",
        "\n",
        "df['Modified Datetime'] = df['Unnamed: 0'].dt.strftime('%d-%m-%Y %H:%M')\n",
        "df['New_time']=pd.to_datetime (df['Unnamed: 0']).dt.time\n",
        "df['Dates']=pd.to_datetime (df['Unnamed: 0']).dt.date\n",
        "df['Year']=pd.to_datetime (df['Unnamed: 0']).dt.year\n",
        "\n",
        "print(df.head())"
      ],
      "metadata": {
        "colab": {
          "base_uri": "https://localhost:8080/"
        },
        "id": "Sl-YvEn0hyir",
        "outputId": "7fb9331f-5166-4761-89ee-6c59841ecdf2"
      },
      "execution_count": null,
      "outputs": [
        {
          "output_type": "stream",
          "name": "stdout",
          "text": [
            "  Unnamed: 0  Punjab  Haryana  Rajasthan  Delhi     UP  Uttarakhand    HP  \\\n",
            "0 2019-02-01   119.9    130.3      234.1   85.8  313.9         40.7  30.0   \n",
            "1 2019-03-01   121.9    133.5      240.2   85.5  311.8         39.3  30.1   \n",
            "2 2019-04-01   118.8    128.2      239.8   83.5  320.7         38.1  30.1   \n",
            "3 2019-05-01   121.0    127.5      239.1   79.2  299.0         39.2  30.2   \n",
            "4 2019-06-01   121.4    132.6      240.4   76.6  286.8         39.2  31.0   \n",
            "\n",
            "    J&K  Chandigarh  ...  Assam  Manipur  Meghalaya  Mizoram  Nagaland  \\\n",
            "0  52.5         5.0  ...   21.7      2.7        6.1      1.9       2.2   \n",
            "1  54.1         4.9  ...   23.4      2.4        6.5      1.8       2.2   \n",
            "2  53.2         4.8  ...   21.7      2.4        6.3      1.7       2.2   \n",
            "3  51.5         4.3  ...   22.5      2.7        5.7      1.8       2.3   \n",
            "4  53.2         4.3  ...   21.7      2.7        6.2      1.9       2.3   \n",
            "\n",
            "   Tripura  Modified Datetime  New_time       Dates  Year  \n",
            "0      3.4   01-02-2019 00:00  00:00:00  2019-02-01  2019  \n",
            "1      3.6   01-03-2019 00:00  00:00:00  2019-03-01  2019  \n",
            "2      3.5   01-04-2019 00:00  00:00:00  2019-04-01  2019  \n",
            "3      3.5   01-05-2019 00:00  00:00:00  2019-05-01  2019  \n",
            "4      3.3   01-06-2019 00:00  00:00:00  2019-06-01  2019  \n",
            "\n",
            "[5 rows x 38 columns]\n"
          ]
        }
      ]
    },
    {
      "cell_type": "code",
      "source": [
        "unique_years = df['Year'].unique()\n",
        "count_2019 = (df['Year'] == 2019).sum()\n",
        "count_2020 = (df['Year'] == 2020).sum()\n",
        "\n",
        "print(unique_years,count_2019,count_2020)"
      ],
      "metadata": {
        "colab": {
          "base_uri": "https://localhost:8080/"
        },
        "id": "mdofRLqWtGGw",
        "outputId": "0b7b2e9f-5004-4602-bdd5-14cb3348b61e"
      },
      "execution_count": null,
      "outputs": [
        {
          "output_type": "stream",
          "name": "stdout",
          "text": [
            "[2019 2020] 359 144\n"
          ]
        }
      ]
    },
    {
      "cell_type": "code",
      "source": [
        "plt.bar(['2019', '2020'], [count_2019, count_2020], color=['blue', 'orange'])\n",
        "plt.xlabel('Year')\n",
        "plt.ylabel('Count')\n",
        "plt.title('Count of Records for Each Year')\n",
        "plt.show()"
      ],
      "metadata": {
        "colab": {
          "base_uri": "https://localhost:8080/",
          "height": 472
        },
        "id": "brep3EbAtIId",
        "outputId": "12ca7659-6283-4b8e-824c-b3cd81c1ad7b"
      },
      "execution_count": null,
      "outputs": [
        {
          "output_type": "display_data",
          "data": {
            "text/plain": [
              "<Figure size 640x480 with 1 Axes>"
            ],
            "image/png": "[encoded data removed]"
          },
          "metadata": {}
        }
      ]
    }
  ]
}