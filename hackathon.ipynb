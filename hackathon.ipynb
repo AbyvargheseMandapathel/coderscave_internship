{
 "cells": [
  {
   "cell_type": "code",
   "execution_count": 1,
   "id": "b6570dba",
   "metadata": {},
   "outputs": [],
   "source": [
    "import numpy as np\n",
    "import matplotlib.pyplot as plt \n",
    "import pandas as pd\n",
    "import seaborn as sns\n",
    "%matplotlib inline"
   ]
  },
  {
   "cell_type": "code",
   "execution_count": 2,
   "id": "00b8cdef",
   "metadata": {},
   "outputs": [
    {
     "data": {
      "text/html": [
       "<div>\n",
       "<style scoped>\n",
       "    .dataframe tbody tr th:only-of-type {\n",
       "        vertical-align: middle;\n",
       "    }\n",
       "\n",
       "    .dataframe tbody tr th {\n",
       "        vertical-align: top;\n",
       "    }\n",
       "\n",
       "    .dataframe thead th {\n",
       "        text-align: right;\n",
       "    }\n",
       "</style>\n",
       "<table border=\"1\" class=\"dataframe\">\n",
       "  <thead>\n",
       "    <tr style=\"text-align: right;\">\n",
       "      <th></th>\n",
       "      <th>MONTH</th>\n",
       "      <th>STORECODE</th>\n",
       "      <th>QTY</th>\n",
       "      <th>VALUE</th>\n",
       "      <th>GRP</th>\n",
       "      <th>SGRP</th>\n",
       "      <th>SSGRP</th>\n",
       "      <th>CMP</th>\n",
       "      <th>MBRD</th>\n",
       "      <th>BRD</th>\n",
       "    </tr>\n",
       "  </thead>\n",
       "  <tbody>\n",
       "    <tr>\n",
       "      <th>0</th>\n",
       "      <td>M1</td>\n",
       "      <td>P1</td>\n",
       "      <td>25</td>\n",
       "      <td>83</td>\n",
       "      <td>HAIR CONDITIONERS</td>\n",
       "      <td>HAIR CONDITIONERS</td>\n",
       "      <td>HAIR CONDITIONERS</td>\n",
       "      <td>HINDUSTAN UNILEVER LIMITED</td>\n",
       "      <td>DOVE</td>\n",
       "      <td>DOVE HAIR FALL RESCUE</td>\n",
       "    </tr>\n",
       "    <tr>\n",
       "      <th>1</th>\n",
       "      <td>M1</td>\n",
       "      <td>P1</td>\n",
       "      <td>6</td>\n",
       "      <td>22</td>\n",
       "      <td>HAIR CONDITIONERS</td>\n",
       "      <td>HAIR CONDITIONERS</td>\n",
       "      <td>HAIR CONDITIONERS</td>\n",
       "      <td>HINDUSTAN UNILEVER LIMITED</td>\n",
       "      <td>DOVE</td>\n",
       "      <td>DOVE INTENSE REPAIR</td>\n",
       "    </tr>\n",
       "    <tr>\n",
       "      <th>2</th>\n",
       "      <td>M1</td>\n",
       "      <td>P1</td>\n",
       "      <td>4</td>\n",
       "      <td>15</td>\n",
       "      <td>HAIR CONDITIONERS</td>\n",
       "      <td>HAIR CONDITIONERS</td>\n",
       "      <td>HAIR CONDITIONERS</td>\n",
       "      <td>HINDUSTAN UNILEVER LIMITED</td>\n",
       "      <td>DOVE</td>\n",
       "      <td>DOVE OXYGEN MOISTURE</td>\n",
       "    </tr>\n",
       "    <tr>\n",
       "      <th>3</th>\n",
       "      <td>M1</td>\n",
       "      <td>P1</td>\n",
       "      <td>15</td>\n",
       "      <td>60</td>\n",
       "      <td>HAIR CONDITIONERS</td>\n",
       "      <td>HAIR CONDITIONERS</td>\n",
       "      <td>HAIR CONDITIONERS</td>\n",
       "      <td>L'OREAL INDIA</td>\n",
       "      <td>GARNIER</td>\n",
       "      <td>FRUCTIS</td>\n",
       "    </tr>\n",
       "    <tr>\n",
       "      <th>4</th>\n",
       "      <td>M1</td>\n",
       "      <td>P2</td>\n",
       "      <td>0</td>\n",
       "      <td>0</td>\n",
       "      <td>HAIR CONDITIONERS</td>\n",
       "      <td>HAIR CONDITIONERS</td>\n",
       "      <td>HAIR CONDITIONERS</td>\n",
       "      <td>HINDUSTAN UNILEVER LIMITED</td>\n",
       "      <td>CLINIC PLUS</td>\n",
       "      <td>CLINIC PLUS</td>\n",
       "    </tr>\n",
       "  </tbody>\n",
       "</table>\n",
       "</div>"
      ],
      "text/plain": [
       "  MONTH STORECODE  QTY  VALUE                GRP               SGRP  \\\n",
       "0    M1        P1   25     83  HAIR CONDITIONERS  HAIR CONDITIONERS   \n",
       "1    M1        P1    6     22  HAIR CONDITIONERS  HAIR CONDITIONERS   \n",
       "2    M1        P1    4     15  HAIR CONDITIONERS  HAIR CONDITIONERS   \n",
       "3    M1        P1   15     60  HAIR CONDITIONERS  HAIR CONDITIONERS   \n",
       "4    M1        P2    0      0  HAIR CONDITIONERS  HAIR CONDITIONERS   \n",
       "\n",
       "               SSGRP                         CMP         MBRD  \\\n",
       "0  HAIR CONDITIONERS  HINDUSTAN UNILEVER LIMITED         DOVE   \n",
       "1  HAIR CONDITIONERS  HINDUSTAN UNILEVER LIMITED         DOVE   \n",
       "2  HAIR CONDITIONERS  HINDUSTAN UNILEVER LIMITED         DOVE   \n",
       "3  HAIR CONDITIONERS               L'OREAL INDIA      GARNIER   \n",
       "4  HAIR CONDITIONERS  HINDUSTAN UNILEVER LIMITED  CLINIC PLUS   \n",
       "\n",
       "                     BRD  \n",
       "0  DOVE HAIR FALL RESCUE  \n",
       "1    DOVE INTENSE REPAIR  \n",
       "2   DOVE OXYGEN MOISTURE  \n",
       "3                FRUCTIS  \n",
       "4            CLINIC PLUS  "
      ]
     },
     "execution_count": 2,
     "metadata": {},
     "output_type": "execute_result"
    }
   ],
   "source": [
    "df= pd.read_csv('Hackathon_Ideal_Data.csv')\n",
    "df.head()"
   ]
  },
  {
   "cell_type": "code",
   "execution_count": 3,
   "id": "6dee5214",
   "metadata": {},
   "outputs": [
    {
     "name": "stdout",
     "output_type": "stream",
     "text": [
      "<class 'pandas.core.frame.DataFrame'>\n",
      "RangeIndex: 14260 entries, 0 to 14259\n",
      "Data columns (total 10 columns):\n",
      " #   Column     Non-Null Count  Dtype \n",
      "---  ------     --------------  ----- \n",
      " 0   MONTH      14260 non-null  object\n",
      " 1   STORECODE  14260 non-null  object\n",
      " 2   QTY        14260 non-null  int64 \n",
      " 3   VALUE      14260 non-null  int64 \n",
      " 4   GRP        14260 non-null  object\n",
      " 5   SGRP       14260 non-null  object\n",
      " 6   SSGRP      14260 non-null  object\n",
      " 7   CMP        14260 non-null  object\n",
      " 8   MBRD       14260 non-null  object\n",
      " 9   BRD        14260 non-null  object\n",
      "dtypes: int64(2), object(8)\n",
      "memory usage: 1.1+ MB\n"
     ]
    }
   ],
   "source": [
    "df.info()"
   ]
  },
  {
   "cell_type": "code",
   "execution_count": 4,
   "id": "746d9c8b",
   "metadata": {},
   "outputs": [
    {
     "data": {
      "text/html": [
       "<div>\n",
       "<style scoped>\n",
       "    .dataframe tbody tr th:only-of-type {\n",
       "        vertical-align: middle;\n",
       "    }\n",
       "\n",
       "    .dataframe tbody tr th {\n",
       "        vertical-align: top;\n",
       "    }\n",
       "\n",
       "    .dataframe thead th {\n",
       "        text-align: right;\n",
       "    }\n",
       "</style>\n",
       "<table border=\"1\" class=\"dataframe\">\n",
       "  <thead>\n",
       "    <tr style=\"text-align: right;\">\n",
       "      <th></th>\n",
       "      <th>QTY</th>\n",
       "      <th>VALUE</th>\n",
       "    </tr>\n",
       "  </thead>\n",
       "  <tbody>\n",
       "    <tr>\n",
       "      <th>count</th>\n",
       "      <td>14260.000000</td>\n",
       "      <td>14260.000000</td>\n",
       "    </tr>\n",
       "    <tr>\n",
       "      <th>mean</th>\n",
       "      <td>16.354488</td>\n",
       "      <td>294.455330</td>\n",
       "    </tr>\n",
       "    <tr>\n",
       "      <th>std</th>\n",
       "      <td>34.365583</td>\n",
       "      <td>760.129558</td>\n",
       "    </tr>\n",
       "    <tr>\n",
       "      <th>min</th>\n",
       "      <td>0.000000</td>\n",
       "      <td>0.000000</td>\n",
       "    </tr>\n",
       "    <tr>\n",
       "      <th>25%</th>\n",
       "      <td>1.000000</td>\n",
       "      <td>10.000000</td>\n",
       "    </tr>\n",
       "    <tr>\n",
       "      <th>50%</th>\n",
       "      <td>4.000000</td>\n",
       "      <td>99.000000</td>\n",
       "    </tr>\n",
       "    <tr>\n",
       "      <th>75%</th>\n",
       "      <td>16.000000</td>\n",
       "      <td>283.000000</td>\n",
       "    </tr>\n",
       "    <tr>\n",
       "      <th>max</th>\n",
       "      <td>641.000000</td>\n",
       "      <td>24185.000000</td>\n",
       "    </tr>\n",
       "  </tbody>\n",
       "</table>\n",
       "</div>"
      ],
      "text/plain": [
       "                QTY         VALUE\n",
       "count  14260.000000  14260.000000\n",
       "mean      16.354488    294.455330\n",
       "std       34.365583    760.129558\n",
       "min        0.000000      0.000000\n",
       "25%        1.000000     10.000000\n",
       "50%        4.000000     99.000000\n",
       "75%       16.000000    283.000000\n",
       "max      641.000000  24185.000000"
      ]
     },
     "execution_count": 4,
     "metadata": {},
     "output_type": "execute_result"
    }
   ],
   "source": [
    "df.describe()"
   ]
  },
  {
   "cell_type": "code",
   "execution_count": 6,
   "id": "e534042f",
   "metadata": {},
   "outputs": [
    {
     "data": {
      "text/plain": [
       "MONTH        0\n",
       "STORECODE    0\n",
       "QTY          0\n",
       "VALUE        0\n",
       "GRP          0\n",
       "SGRP         0\n",
       "SSGRP        0\n",
       "CMP          0\n",
       "MBRD         0\n",
       "BRD          0\n",
       "dtype: int64"
      ]
     },
     "execution_count": 6,
     "metadata": {},
     "output_type": "execute_result"
    }
   ],
   "source": [
    "df.isnull().sum()"
   ]
  },
  {
   "cell_type": "code",
   "execution_count": 8,
   "id": "52bd9f8b",
   "metadata": {},
   "outputs": [
    {
     "data": {
      "text/plain": [
       "0"
      ]
     },
     "execution_count": 8,
     "metadata": {},
     "output_type": "execute_result"
    }
   ],
   "source": [
    "df.duplicated().sum()"
   ]
  },
  {
   "cell_type": "code",
   "execution_count": 36,
   "id": "ddcfc968",
   "metadata": {},
   "outputs": [
    {
     "data": {
      "text/plain": [
       "Text(0.5, 1.0, 'QTY distribution')"
      ]
     },
     "execution_count": 36,
     "metadata": {},
     "output_type": "execute_result"
    },
    {
     "data": {
      "image/png": "[encoded data removed]",
      "text/plain": [
       "<Figure size 1400x700 with 1 Axes>"
      ]
     },
     "metadata": {},
     "output_type": "display_data"
    }
   ],
   "source": [
    "import matplotlib\n",
    "matplotlib.rcParams['figure.figsize']=(14,7)\n",
    "sns.histplot(df['QTY'],bins=40)\n",
    "plt.title('QTY distribution')"
   ]
  },
  {
   "cell_type": "code",
   "execution_count": 41,
   "id": "8df80052",
   "metadata": {},
   "outputs": [
    {
     "data": {
      "text/plain": [
       "Text(0.5, 1.0, 'GRP distirbution')"
      ]
     },
     "execution_count": 41,
     "metadata": {},
     "output_type": "execute_result"
    },
    {
     "data": {
      "image/png": "[encoded data removed]",
      "text/plain": [
       "<Figure size 1400x700 with 1 Axes>"
      ]
     },
     "metadata": {},
     "output_type": "display_data"
    }
   ],
   "source": [
    "sns.histplot(df.GRP.value_counts())\n",
    "plt.title('GRP distirbution')"
   ]
  },
  {
   "cell_type": "code",
   "execution_count": 44,
   "id": "65227e43",
   "metadata": {},
   "outputs": [],
   "source": [
    "corr = df.corr(numeric_only=True)"
   ]
  },
  {
   "cell_type": "code",
   "execution_count": 54,
   "id": "593585cc",
   "metadata": {},
   "outputs": [
    {
     "data": {
      "text/plain": [
       "<Axes: >"
      ]
     },
     "execution_count": 54,
     "metadata": {},
     "output_type": "execute_result"
    },
    {
     "data": {
      "image/png": "[encoded data removed]",
      "text/plain": [
       "<Figure size 1400x700 with 2 Axes>"
      ]
     },
     "metadata": {},
     "output_type": "display_data"
    }
   ],
   "source": [
    "sns.heatmap(corr,annot=True,cmap='YlGnBu',fmt='1.2f')"
   ]
  },
  {
   "cell_type": "code",
   "execution_count": null,
   "id": "46d1ec34",
   "metadata": {},
   "outputs": [],
   "source": []
  }
 ],
 "metadata": {
  "kernelspec": {
   "display_name": "Python 3 (ipykernel)",
   "language": "python",
   "name": "python3"
  },
  "language_info": {
   "codemirror_mode": {
    "name": "ipython",
    "version": 3
   },
   "file_extension": ".py",
   "mimetype": "text/x-python",
   "name": "python",
   "nbconvert_exporter": "python",
   "pygments_lexer": "ipython3",
   "version": "3.11.5"
  }
 },
 "nbformat": 4,
 "nbformat_minor": 5
}
